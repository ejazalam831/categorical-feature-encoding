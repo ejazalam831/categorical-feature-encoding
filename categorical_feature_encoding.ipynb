{
  "nbformat": 4,
  "nbformat_minor": 0,
  "metadata": {
    "colab": {
      "provenance": []
    },
    "kernelspec": {
      "name": "python3",
      "display_name": "Python 3"
    },
    "language_info": {
      "name": "python"
    }
  },
  "cells": [
    {
      "cell_type": "markdown",
      "source": [
        "# Handling Non-Numeric Features: A Complete Guide"
      ],
      "metadata": {
        "id": "Y37M4B39sqeE"
      }
    },
    {
      "cell_type": "markdown",
      "source": [
        "In the world of data science and machine learning, not everything can be measured with numbers. Imagine you're analyzing employee data and you might have information like departments (Sales, Engineering, Marketing), education levels (High School, Bachelor's, Master's), or office locations (New York, Seattle, Denver). These are examples of **categorical features**, and knowing how to handle them properly can make or break your machine learning models."
      ],
      "metadata": {
        "id": "Muqfro7DtCpj"
      }
    },
    {
      "cell_type": "markdown",
      "source": [
        "### Outline:\n",
        "1. Setting Up Our Demo Dataset\n",
        "2. What Are Categorical Features?\n",
        "3. Two Main Types of Categorical Features\n",
        "4. Why Do Computers Struggle with Categories?\n",
        "5. Label Encoding: The Naive Approach (And Why to Avoid It)\n",
        "6. Handling Nominal Features\n",
        "7. Handling Ordinal Features\n"
      ],
      "metadata": {
        "id": "piwxR3natVIR"
      }
    },
    {
      "cell_type": "markdown",
      "source": [
        "## 1. Setting Up Our Demo Dataset\n",
        "\n",
        "Throughout this article, we'll use a demo dataset: **employee data from a company**. This dataset will help us explore different types of categorical features and encoding techniques.\n"
      ],
      "metadata": {
        "id": "iVnnJ_48teJc"
      }
    },
    {
      "cell_type": "code",
      "execution_count": 1,
      "metadata": {
        "colab": {
          "base_uri": "https://localhost:8080/"
        },
        "id": "bhYVSKRTsnAA",
        "outputId": "d4f814c1-301c-42e2-e2c3-f3a512b7e940"
      },
      "outputs": [
        {
          "output_type": "stream",
          "name": "stdout",
          "text": [
            "   employee_id   department    education      city experience_level  salary\n",
            "0            1        Sales     Bachelor  New York           Junior   50000\n",
            "1            2  Engineering       Master   Seattle           Senior   95000\n",
            "2            3    Marketing  High School     Miami            Entry   35000\n",
            "3            4        Sales     Bachelor   Seattle              Mid   65000\n",
            "4            5  Engineering          PhD  New York           Senior  120000\n"
          ]
        }
      ],
      "source": [
        "import pandas as pd\n",
        "import numpy as np\n",
        "\n",
        "# Create our employee dataset\n",
        "data = pd.DataFrame({\n",
        "    'employee_id': [1, 2, 3, 4, 5, 6, 7, 8, 9, 10],\n",
        "    'department': ['Sales', 'Engineering', 'Marketing', 'Sales', 'Engineering',\n",
        "                   'HR', 'Marketing', 'Engineering', 'Sales', 'Finance'],\n",
        "    'education': ['Bachelor', 'Master', 'High School', 'Bachelor', 'PhD',\n",
        "                  'Master', 'Bachelor', 'Master', 'Bachelor', 'Master'],\n",
        "    'city': ['New York', 'Seattle', 'Miami', 'Seattle', 'New York',\n",
        "             'Denver', 'Miami', 'Denver', 'Chicago', 'Austin'],\n",
        "    'experience_level': ['Junior', 'Senior', 'Entry', 'Mid', 'Senior',\n",
        "                        'Mid', 'Junior', 'Senior', 'Mid', 'Junior'],\n",
        "    'salary': [50000, 95000, 35000, 65000, 120000, 75000, 55000, 85000, 60000, 48000]\n",
        "})\n",
        "\n",
        "print(data.head())"
      ]
    },
    {
      "cell_type": "markdown",
      "source": [
        "## 2. What Are Categorical Features?\n",
        "\n",
        "Categorical features are *labels or categories that describe characteristics of the data*. Unlike numerical features (like salary, age, or temperature), categorical features represent groups, classes, or categories that things belong to.\n",
        "\n",
        "Looking at our employee dataset:\n",
        "- **Numerical features**: `salary` ($50,000), `employee_id` (1, 2, 3...)\n",
        "- **Categorical features**: `department` (Sales, Engineering, Marketing), `education` (Bachelor, Master, PhD), `city` (New York, Seattle, Miami)\n",
        "\n",
        "We can think of categorical features as answers to questions like \"What type?\", \"Which category?\", or \"What level?\" rather than \"How much?\" or \"How many?\""
      ],
      "metadata": {
        "id": "5KBUbW2PuuhT"
      }
    },
    {
      "cell_type": "markdown",
      "source": [
        "## 3. Two Main Types of Categorical Features\n",
        "\n",
        "### 1. Nominal Features (No Natural Order)\n",
        "\n",
        "**Nominal** features are categories that are simply labels with *no inherent ranking or order*. In our dataset, these include:\n",
        "\n",
        "**Department**: Sales, Engineering, Marketing, HR, Finance\n",
        "- We can't say \"Sales > Engineering\" or \"Marketing < HR\" in any meaningful way\n",
        "\n",
        "**City**: New York, Seattle, Miami, Denver, Chicago, Austin  \n",
        "- Cities are different locations, but one isn't \"greater than\" another\n"
      ],
      "metadata": {
        "id": "IQvkAPMHvEpT"
      }
    },
    {
      "cell_type": "code",
      "source": [
        "# Check our nominal features\n",
        "print(\"Departments:\", data['department'].unique())\n",
        "print(\"Cities:\", data['city'].unique())"
      ],
      "metadata": {
        "colab": {
          "base_uri": "https://localhost:8080/"
        },
        "id": "1e_JHuq8xHD_",
        "outputId": "82889d15-8999-4827-b334-dfda79cc7383"
      },
      "execution_count": 2,
      "outputs": [
        {
          "output_type": "stream",
          "name": "stdout",
          "text": [
            "Departments: ['Sales' 'Engineering' 'Marketing' 'HR' 'Finance']\n",
            "Cities: ['New York' 'Seattle' 'Miami' 'Denver' 'Chicago' 'Austin']\n"
          ]
        }
      ]
    },
    {
      "cell_type": "markdown",
      "source": [
        "### 2. Ordinal Features (Natural Order Exists)\n",
        "\n",
        "**Ordinal** features have a *clear ranking or order* between categories. We can arrange them from lowest to highest, worst to best, or smallest to largest.\n",
        "\n",
        "**Education Level**: High School < Bachelor < Master < PhD\n",
        "- Each level represents more years of education\n",
        "- Clear progression in academic achievement\n",
        "\n",
        "**Experience Level**: Entry < Junior < Mid < Senior\n",
        "- Each level represents more years of work experience  \n",
        "- Clear hierarchy in responsibility and expertise\n"
      ],
      "metadata": {
        "id": "4kMC4qM5xBS2"
      }
    },
    {
      "cell_type": "code",
      "source": [
        "# Check our ordinal features\n",
        "print(\"Education levels:\", data['education'].unique())\n",
        "print(\"Experience levels:\", data['experience_level'].unique())"
      ],
      "metadata": {
        "colab": {
          "base_uri": "https://localhost:8080/"
        },
        "id": "BjPFsgH7xpbE",
        "outputId": "a36e75c8-f557-49b2-f786-3518872246c7"
      },
      "execution_count": 3,
      "outputs": [
        {
          "output_type": "stream",
          "name": "stdout",
          "text": [
            "Education levels: ['Bachelor' 'Master' 'High School' 'PhD']\n",
            "Experience levels: ['Junior' 'Senior' 'Entry' 'Mid']\n"
          ]
        }
      ]
    },
    {
      "cell_type": "markdown",
      "source": [
        "## 4. Why Do Computers Struggle with Categories?\n",
        "\n",
        "Here's the fundamental challenge: *most machine learning algorithms are mathematical at their core, and mathematics works with numbers, not words*.\n",
        "\n",
        "Imagine trying to calculate the average of these departments from our dataset:\n",
        "- Sales\n",
        "- Engineering  \n",
        "- Marketing\n",
        "\n",
        "It doesn't make sense, right? We can't add \"Sales + Engineering\" and divide by 2!\n",
        "\n",
        "Let's see what happens if we try to use categorical features directly in a model:\n"
      ],
      "metadata": {
        "id": "sFYd5C17xuQ8"
      }
    },
    {
      "cell_type": "code",
      "source": [
        "from sklearn.linear_model import LinearRegression\n",
        "\n",
        "# This will cause an error!\n",
        "try:\n",
        "    model = LinearRegression()\n",
        "    X = data[['department', 'education', 'city']]  # Categorical features\n",
        "    y = data['salary']\n",
        "    model.fit(X, y)\n",
        "except Exception as e:\n",
        "    print(f\"Error: {e}\")\n",
        "    print(\"Machine learning algorithms need numerical input!\")"
      ],
      "metadata": {
        "colab": {
          "base_uri": "https://localhost:8080/"
        },
        "id": "kJDOCcetyrQG",
        "outputId": "057211f6-2271-4035-87f4-191f39f23fa7"
      },
      "execution_count": 5,
      "outputs": [
        {
          "output_type": "stream",
          "name": "stdout",
          "text": [
            "Error: could not convert string to float: 'Sales'\n",
            "Machine learning algorithms need numerical input!\n"
          ]
        }
      ]
    },
    {
      "cell_type": "markdown",
      "source": [
        "This is why we need special techniques to convert categorical features into a numerical format that computers can understand, while preserving the meaning and relationships in our data.\n",
        "\n",
        "By properly handling categorical features like department, education, and experience level, our model could learn that:\n",
        "- Engineering employees typically earn more than Marketing employees\n",
        "- PhD holders generally earn more than Bachelor's degree holders  \n",
        "- Senior employees earn more than Junior employees\n"
      ],
      "metadata": {
        "id": "3oXdBoFsyd_7"
      }
    },
    {
      "cell_type": "markdown",
      "source": [
        "## 5. Label Encoding: The Naive Approach (And Why to Avoid It)\n",
        "\n",
        "Before diving into proper encoding techniques, let's look at **label encoding**. The approach that seems intuitive but often creates more problems than it solves.\n",
        "\n",
        "### What is Label Encoding?\n",
        "\n",
        "Label encoding simply assigns a unique integer to each category:\n"
      ],
      "metadata": {
        "id": "STsaPr_EzZKV"
      }
    },
    {
      "cell_type": "code",
      "source": [
        "from sklearn.preprocessing import LabelEncoder\n",
        "\n",
        "# Apply label encoding to department\n",
        "label_encoder = LabelEncoder()\n",
        "data['department_label'] = label_encoder.fit_transform(data['department'])\n",
        "\n",
        "# See the mapping\n",
        "for i, dept in enumerate(label_encoder.classes_):\n",
        "    print(f\"{dept}: {i}\")\n",
        "\n",
        "print(\"\\nLabel encoded departments:\")\n",
        "print(data[['department', 'department_label']].drop_duplicates())"
      ],
      "metadata": {
        "colab": {
          "base_uri": "https://localhost:8080/"
        },
        "id": "nC7qvxZ8z2_Y",
        "outputId": "6ab71126-5cce-4209-f79c-ec873df7cee8"
      },
      "execution_count": 6,
      "outputs": [
        {
          "output_type": "stream",
          "name": "stdout",
          "text": [
            "Engineering: 0\n",
            "Finance: 1\n",
            "HR: 2\n",
            "Marketing: 3\n",
            "Sales: 4\n",
            "\n",
            "Label encoded departments:\n",
            "    department  department_label\n",
            "0        Sales                 4\n",
            "1  Engineering                 0\n",
            "2    Marketing                 3\n",
            "5           HR                 2\n",
            "9      Finance                 1\n"
          ]
        }
      ]
    },
    {
      "cell_type": "markdown",
      "source": [
        "**Results look like:**\n",
        "```\n",
        "Engineering: 0\n",
        "Finance: 1\n",
        "HR: 2\n",
        "Marketing: 3\n",
        "Sales: 4\n",
        "```\n"
      ],
      "metadata": {
        "id": "aDYcutER0d1H"
      }
    },
    {
      "cell_type": "markdown",
      "source": [
        "### The Problem with Label Encoding\n",
        "\n",
        "Label encoding creates **artificial mathematical relationships** that don't exist in reality."
      ],
      "metadata": {
        "id": "1P5JtE_70l6v"
      }
    },
    {
      "cell_type": "code",
      "source": [
        "# What label encoding implies:\n",
        "print(\"What the algorithm 'thinks' about departments:\")\n",
        "print(\"Finance (1) = 2 × Engineering (0) + 1\")\n",
        "print(\"HR (2) = 2 × Finance (1)\")\n",
        "print(\"Sales (4) = 4 × Engineering (0)\")\n",
        "print(\"Sales (4) = Engineering (0) + HR (2) + Finance (1) + 1\")\n",
        "\n",
        "# This is completely meaningless for departments!"
      ],
      "metadata": {
        "colab": {
          "base_uri": "https://localhost:8080/"
        },
        "id": "oO3S70ra0lXP",
        "outputId": "c7f40f9f-a0fe-4ff7-ea4f-50e701f12db7"
      },
      "execution_count": 7,
      "outputs": [
        {
          "output_type": "stream",
          "name": "stdout",
          "text": [
            "What the algorithm 'thinks' about departments:\n",
            "Finance (1) = 2 × Engineering (0) + 1\n",
            "HR (2) = 2 × Finance (1)\n",
            "Sales (4) = 4 × Engineering (0)\n",
            "Sales (4) = Engineering (0) + HR (2) + Finance (1) + 1\n"
          ]
        }
      ]
    },
    {
      "cell_type": "markdown",
      "source": [
        "The algorithm now thinks:\n",
        "- Sales (4) is \"4 times more\" than Engineering (0)\n",
        "- HR (2) is \"halfway between\" Engineering (0) and Sales (4)\n",
        "- We can \"add\" departments together mathematically"
      ],
      "metadata": {
        "id": "Iv8_P_I81bIS"
      }
    },
    {
      "cell_type": "markdown",
      "source": [
        "### When Label Encoding Might Be Acceptable\n",
        "\n",
        "Label encoding is **only appropriate for ordinal features** where we explicitly want a simple 1, 2, 3, 4... progression:"
      ],
      "metadata": {
        "id": "xYT0UuUM1e1K"
      }
    },
    {
      "cell_type": "code",
      "source": [
        "# Label encoding for education (ordinal) - still not ideal\n",
        "education_label = LabelEncoder()\n",
        "data['education_label'] = education_label.fit_transform(data['education'])\n",
        "\n",
        "print(\"Education label encoding:\")\n",
        "for i, edu in enumerate(education_label.classes_):\n",
        "    print(f\"{edu}: {i}\")"
      ],
      "metadata": {
        "colab": {
          "base_uri": "https://localhost:8080/"
        },
        "id": "qPltZQhm2Yvy",
        "outputId": "13be83dc-ce8e-43ba-ac43-cbcbdf1da3cb"
      },
      "execution_count": 8,
      "outputs": [
        {
          "output_type": "stream",
          "name": "stdout",
          "text": [
            "Education label encoding:\n",
            "Bachelor: 0\n",
            "High School: 1\n",
            "Master: 2\n",
            "PhD: 3\n"
          ]
        }
      ]
    },
    {
      "cell_type": "markdown",
      "source": [
        "But even here, the order might be wrong as `LabelEncoder` often uses alphabetical order:\n",
        "\n",
        "- Bachelor: 0\n",
        "- High School: 1  ← This should be lower than Bachelor!\n",
        "- Master: 2\n",
        "- PhD: 3"
      ],
      "metadata": {
        "id": "obNcpI1j2ZJI"
      }
    },
    {
      "cell_type": "markdown",
      "source": [
        "### Bottom Line on Label Encoding\n",
        "\n",
        "**For nominal features (like department, city)**: We shouldn't use label encoding as it creates meaningless mathematical relationships.\n",
        "\n",
        "**For ordinal features (like education, experience)**: Label encoding is rarely the best choice because:\n",
        "- It doesn't guarantee the correct order\n",
        "- It assumes equal spacing between categories"
      ],
      "metadata": {
        "id": "Rfpd5Q0K3Htx"
      }
    },
    {
      "cell_type": "markdown",
      "source": [
        "## 6. Handling Nominal Features\n",
        "\n",
        "Now let's explore some proper techniques for handling nominal features i.e., categories with no natural order like department and city.\n",
        "\n",
        "### One-Hot Encoding\n",
        "\n",
        "One-hot encoding is like giving each category its own *yes/no question*. Instead of having one column with multiple categories, we create separate columns for each category, using 1 for \"yes\" and 0 for \"no.\"\n",
        "\n",
        "#### Implementing One-Hot Encoding\n",
        "\n",
        "Let's transform the `department` column:"
      ],
      "metadata": {
        "id": "XgY0LTEl3Y7Q"
      }
    },
    {
      "cell_type": "code",
      "source": [
        "# Method 1: Implementing one-hot encoding using pandas get_dummies\n",
        "dept_encoded = pd.get_dummies(data['department'], prefix='dept', dtype=int)\n",
        "print(dept_encoded.head())"
      ],
      "metadata": {
        "colab": {
          "base_uri": "https://localhost:8080/"
        },
        "id": "MbIVsAmy4i8Q",
        "outputId": "139652c0-1ff7-4a9d-859c-7d88bb449959"
      },
      "execution_count": 23,
      "outputs": [
        {
          "output_type": "stream",
          "name": "stdout",
          "text": [
            "   dept_Engineering  dept_Finance  dept_HR  dept_Marketing  dept_Sales\n",
            "0                 0             0        0               0           1\n",
            "1                 1             0        0               0           0\n",
            "2                 0             0        0               1           0\n",
            "3                 0             0        0               0           1\n",
            "4                 1             0        0               0           0\n"
          ]
        }
      ]
    },
    {
      "cell_type": "code",
      "source": [
        "# Method 2: Implementing one-hot encoding using sklearn (more control)\n",
        "from sklearn.preprocessing import OneHotEncoder\n",
        "\n",
        "encoder = OneHotEncoder(sparse_output=False, drop='first', dtype=int)  # drop='first' avoids redundancy\n",
        "dept_encoded = encoder.fit_transform(data[['department']])\n",
        "\n",
        "# Get feature names\n",
        "feature_names = encoder.get_feature_names_out(['department'])\n",
        "dept_df = pd.DataFrame(dept_encoded, columns=feature_names)\n",
        "print(dept_df.head())"
      ],
      "metadata": {
        "colab": {
          "base_uri": "https://localhost:8080/"
        },
        "id": "wPdFmO178CFH",
        "outputId": "0c269ad8-fb2d-45d2-f08e-bd0596db359e"
      },
      "execution_count": 24,
      "outputs": [
        {
          "output_type": "stream",
          "name": "stdout",
          "text": [
            "   department_Finance  department_HR  department_Marketing  department_Sales\n",
            "0                   0              0                     0                 1\n",
            "1                   0              0                     0                 0\n",
            "2                   0              0                     1                 0\n",
            "3                   0              0                     0                 1\n",
            "4                   0              0                     0                 0\n"
          ]
        }
      ]
    },
    {
      "cell_type": "markdown",
      "source": [
        "**Results:**\n",
        "```\n",
        "   dept_Engineering  dept_Finance  dept_HR  dept_Marketing  dept_Sales\n",
        "0                 0             0        0               0           1\n",
        "1                 1             0        0               0           0\n",
        "2                 0             0        0               1           0\n",
        "3                 0             0        0               0           1\n",
        "4                 1             0        0               0           0\n",
        "```"
      ],
      "metadata": {
        "id": "pEjZyTIm7EU_"
      }
    },
    {
      "cell_type": "markdown",
      "source": [
        "Now each employee has a clear numerical representation:\n",
        "- Employee 1 (Sales): [0, 0, 0, 0, 1]\n",
        "- Employee 2 (Engineering): [1, 0, 0, 0, 0]  \n",
        "- Employee 3 (Marketing): [0, 0, 0, 1, 0]"
      ],
      "metadata": {
        "id": "jXr2Lb-Y7IzS"
      }
    },
    {
      "cell_type": "markdown",
      "source": [
        "#### When One-Hot Encoding Works Best\n",
        "**Perfect scenarios for one-hot encoding:**\n",
        "- **Low cardinality**: Our dataset has 5 departments (manageable)\n",
        "- **All categories are important**: Each department affects salary differently\n",
        "- **No natural relationship**: Departments are truly independent categories\n"
      ],
      "metadata": {
        "id": "jPs1ppwR7Sn_"
      }
    },
    {
      "cell_type": "markdown",
      "source": [
        "### Target Encoding: For High-Cardinality Features\n",
        "\n",
        "What happens when we have a feature like `city` with many unique values? Let's check our city data:"
      ],
      "metadata": {
        "id": "pw_VUMWk-BJj"
      }
    },
    {
      "cell_type": "code",
      "source": [
        "print(f\"Number of unique cities: {data['city'].nunique()}\")\n",
        "print(f\"Cities: {list(data['city'].unique())}\")\n",
        "\n",
        "# Check if we have enough data per city\n",
        "city_counts = data['city'].value_counts()\n",
        "print(f\"\\nEmployee count per city:\")\n",
        "print(city_counts)"
      ],
      "metadata": {
        "colab": {
          "base_uri": "https://localhost:8080/"
        },
        "id": "Ppa5WXRx_HFO",
        "outputId": "7828ed53-bc85-4e25-83ee-7397f07374b1"
      },
      "execution_count": 14,
      "outputs": [
        {
          "output_type": "stream",
          "name": "stdout",
          "text": [
            "Number of unique cities: 6\n",
            "Cities: ['New York', 'Seattle', 'Miami', 'Denver', 'Chicago', 'Austin']\n",
            "\n",
            "Employee count per city:\n",
            "city\n",
            "New York    2\n",
            "Seattle     2\n",
            "Miami       2\n",
            "Denver      2\n",
            "Chicago     1\n",
            "Austin      1\n",
            "Name: count, dtype: int64\n"
          ]
        }
      ]
    },
    {
      "cell_type": "markdown",
      "source": [
        "In our current dataset, we have 6 cities with 1-2 employees each. In a real-world scenario, we might have:\n",
        "- 100+ cities with customers from across the country\n",
        "- Some cities with thousands of customers, others with just one"
      ],
      "metadata": {
        "id": "bITx91HS_ZB8"
      }
    },
    {
      "cell_type": "markdown",
      "source": [
        "**Problems with one-hot encoding high-cardinality features:**\n",
        "- **Curse of dimensionality**: Too many features, not enough data per feature\n",
        "- **Memory problems**: Dataset becomes huge and sparse (mostly zeros)\n",
        "- **Overfitting**: Model might memorize categories instead of learning patterns"
      ],
      "metadata": {
        "id": "K03CU5z6_kZ5"
      }
    },
    {
      "cell_type": "markdown",
      "source": [
        "#### How Target Encoding Works\n",
        "\n",
        "Target encoding is *excellent for high-cardinality features*. Instead of creating many columns, it replaces each category with a statistic related to the target variable (usually the mean).\n",
        "\n",
        "Let's say for each category, we calculate the average salary:"
      ],
      "metadata": {
        "id": "aVTskuXsAorb"
      }
    },
    {
      "cell_type": "code",
      "source": [
        "# Target encoding for departments\n",
        "dept_target_encoding = data.groupby('department')['salary'].mean()\n",
        "print(\"Target encoding for departments:\")\n",
        "print(dept_target_encoding.sort_values(ascending=False))\n",
        "\n",
        "# Apply the encoding\n",
        "data['dept_target_encoded'] = data['department'].map(dept_target_encoding)\n",
        "\n",
        "print(\"\\nOriginal vs Target Encoded:\")\n",
        "comparison = data[['department', 'dept_target_encoded', 'salary']].head()\n",
        "print(comparison)"
      ],
      "metadata": {
        "colab": {
          "base_uri": "https://localhost:8080/"
        },
        "id": "AxYn6ZPBBizz",
        "outputId": "4de719be-44ed-41ea-8972-f388527adb07"
      },
      "execution_count": 15,
      "outputs": [
        {
          "output_type": "stream",
          "name": "stdout",
          "text": [
            "Target encoding for departments:\n",
            "department\n",
            "Engineering    100000.000000\n",
            "HR              75000.000000\n",
            "Sales           58333.333333\n",
            "Finance         48000.000000\n",
            "Marketing       45000.000000\n",
            "Name: salary, dtype: float64\n",
            "\n",
            "Original vs Target Encoded:\n",
            "    department  dept_target_encoded  salary\n",
            "0        Sales         58333.333333   50000\n",
            "1  Engineering        100000.000000   95000\n",
            "2    Marketing         45000.000000   35000\n",
            "3        Sales         58333.333333   65000\n",
            "4  Engineering        100000.000000  120000\n"
          ]
        }
      ]
    },
    {
      "cell_type": "markdown",
      "source": [
        "**Results:**\n",
        "```\n",
        "Target encoding for departments:\n",
        "Engineering    100000.0\n",
        "HR              75000.0\n",
        "Sales           58333.3\n",
        "Finance         48000.0\n",
        "Marketing       45000.0\n",
        "\n",
        "Original vs Target Encoded:\n",
        "   department  dept_target_encoded  salary\n",
        "0       Sales              58333.3   50000\n",
        "1 Engineering             100000.0   95000\n",
        "2   Marketing              45000.0   35000\n",
        "3       Sales              58333.3   65000\n",
        "4 Engineering             100000.0  120000\n",
        "```"
      ],
      "metadata": {
        "id": "g9GuUVcrBss2"
      }
    },
    {
      "cell_type": "markdown",
      "source": [
        "#### When to Use Target Encoding\n",
        "\n",
        "**Perfect for:**\n",
        "- **High-cardinality features**: 20+ unique categories\n",
        "- **Strong relationship with target**: Categories clearly influence the outcome  \n",
        "- **Regression problems**: Works especially well predicting continuous values"
      ],
      "metadata": {
        "id": "jci7YJKMBuoX"
      }
    },
    {
      "cell_type": "markdown",
      "source": [
        "Target encoding can cause some issues as well if not done carefully.\n",
        "\n",
        "**Be careful of:**\n",
        "- **Overfitting**: The encoding might memorize training data too well\n",
        "- **Data leakage**: Always use cross-validation or holdout sets for encoding"
      ],
      "metadata": {
        "id": "_tkjyPNOC2df"
      }
    },
    {
      "cell_type": "markdown",
      "source": [
        "## 7. Handling Ordinal Features\n",
        "\n",
        "Now let's tackle ordinal features i.e., categories with natural order like `education` and `experience_level`. These require different techniques that preserve the ranking information."
      ],
      "metadata": {
        "id": "idnj4cHtDx-w"
      }
    },
    {
      "cell_type": "markdown",
      "source": [
        "### Ordinal Encoding: Preserving Order\n",
        "\n",
        "Ordinal encoding assigns consecutive integers to categories based on their natural order.\n",
        "\n",
        "#### Using Dictionary Mapping for Encoding"
      ],
      "metadata": {
        "id": "StrYezbMEAPF"
      }
    },
    {
      "cell_type": "code",
      "source": [
        "# Define proper order for education\n",
        "education_order = ['High School', 'Bachelor', 'Master', 'PhD']\n",
        "education_mapping = {level: i+1 for i, level in enumerate(education_order)}\n",
        "print(\"Education mapping:\", education_mapping)\n",
        "\n",
        "# Apply ordinal encoding\n",
        "data['education_encoded'] = data['education'].map(education_mapping)\n",
        "\n",
        "# Same for experience level\n",
        "experience_order = ['Entry', 'Junior', 'Mid', 'Senior']\n",
        "experience_mapping = {level: i+1 for i, level in enumerate(experience_order)}\n",
        "data['experience_encoded'] = data['experience_level'].map(experience_mapping)\n",
        "\n",
        "print(\"\\nOrdinal encoding results:\")\n",
        "sample = data[['education', 'education_encoded', 'experience_level', 'experience_encoded', 'salary']].head()\n",
        "print(sample)"
      ],
      "metadata": {
        "colab": {
          "base_uri": "https://localhost:8080/"
        },
        "id": "vTWuk91UEJKy",
        "outputId": "2350f175-a410-4d33-add9-d73963e50640"
      },
      "execution_count": 18,
      "outputs": [
        {
          "output_type": "stream",
          "name": "stdout",
          "text": [
            "Education mapping: {'High School': 1, 'Bachelor': 2, 'Master': 3, 'PhD': 4}\n",
            "\n",
            "Ordinal encoding results:\n",
            "     education  education_encoded experience_level  experience_encoded  salary\n",
            "0     Bachelor                  2           Junior                   2   50000\n",
            "1       Master                  3           Senior                   4   95000\n",
            "2  High School                  1            Entry                   1   35000\n",
            "3     Bachelor                  2              Mid                   3   65000\n",
            "4          PhD                  4           Senior                   4  120000\n"
          ]
        }
      ]
    },
    {
      "cell_type": "markdown",
      "source": [
        "#### Using Sklearn for Ordinal Encoding"
      ],
      "metadata": {
        "id": "n2_JwR-GEJ-r"
      }
    },
    {
      "cell_type": "code",
      "source": [
        "from sklearn.preprocessing import OrdinalEncoder\n",
        "\n",
        "# Create encoder\n",
        "ord_encoder = OrdinalEncoder(categories=[\n",
        "    ['High School', 'Bachelor', 'Master', 'PhD'],\n",
        "    ['Entry', 'Junior', 'Mid', 'Senior']])\n",
        "\n",
        "\n",
        "# Fit and transform\n",
        "encoded_both = ord_encoder.fit_transform(data[['education', 'experience_level']])\n",
        "\n",
        "# Add back to dataframe\n",
        "data['education_ord_encoded'] = encoded_both[:, 0]  # First column\n",
        "data['experience_ord_encoded'] = encoded_both[:, 1]  # Second column\n",
        "\n",
        "print(\"\\nSklearn ordinal encoding results:\")\n",
        "ord_encoded_sample = data[['education', 'education_ord_encoded', 'experience_level', 'experience_ord_encoded']].head()\n",
        "print(ord_encoded_sample)"
      ],
      "metadata": {
        "colab": {
          "base_uri": "https://localhost:8080/"
        },
        "id": "V5pa-8MAI90Q",
        "outputId": "3ffbcadf-4f6e-4451-cd0c-ce053f5fd61c"
      },
      "execution_count": 27,
      "outputs": [
        {
          "output_type": "stream",
          "name": "stdout",
          "text": [
            "\n",
            "Sklearn ordinal encoding results:\n",
            "     education  education_ord_encoded experience_level  experience_ord_encoded\n",
            "0     Bachelor                    1.0           Junior                     1.0\n",
            "1       Master                    2.0           Senior                     3.0\n",
            "2  High School                    0.0            Entry                     0.0\n",
            "3     Bachelor                    1.0              Mid                     2.0\n",
            "4          PhD                    3.0           Senior                     3.0\n"
          ]
        }
      ]
    },
    {
      "cell_type": "markdown",
      "source": [
        "**When to use ordinal encoding:**\n",
        "- Clear monotonic relationship (higher order = higher target value)\n",
        "- You want to preserve the natural progression\n",
        "- Linear relationship between consecutive categories"
      ],
      "metadata": {
        "id": "fG5JtvdhEJcz"
      }
    },
    {
      "cell_type": "markdown",
      "source": [
        "## Summary\n",
        "### Quick Reference Guide\n",
        "\n",
        "| Feature Type | Cardinality | Relationship | Recommended Method | Why |\n",
        "|--------------|-------------|--------------|-------------------|-----|\n",
        "| Nominal | 2-10 categories | Any | One-hot encoding | Preserves all information, manageable size |\n",
        "| Nominal | 10+ categories | Strong target relationship | Target encoding | Reduces dimensionality, captures patterns |\n",
        "| Nominal | 10+ categories | No target available | Frequency encoding | Uses category popularity as proxy |\n",
        "| Ordinal | Any cardinality | Monotonic | Ordinal encoding | Preserves natural order and relationship |\n",
        "\n"
      ],
      "metadata": {
        "id": "LcuBX-uRMW26"
      }
    },
    {
      "cell_type": "markdown",
      "source": [
        "### Key Takeaways\n",
        "\n",
        "1. **Identify feature types correctly**: Distinguish between nominal (no order) and ordinal (natural order) features\n",
        "\n",
        "2. **Avoid label encoding for nominal features**: It creates meaningless mathematical relationships\n",
        "\n",
        "3. **Choose encoding wisely**:\n",
        "   - **Nominal + Low cardinality (≤10)**: Use one-hot encoding\n",
        "   - **Nominal + High cardinality (>10)**: Use target encoding (with cross-validation)\n",
        "   - **Ordinal + Monotonic relationship**: Use ordinal encoding\n",
        "\n",
        "4. **Always validate your approach**: Test different encoding methods and compare model performance\n",
        "\n",
        "5. **Consider the business context**: Our domain knowledge often guides the best encoding strategy\n",
        "\n",
        "\n",
        "**Remember:** properly handling categorical features often separates good data science projects from great ones. These features contain rich information about the real world and our job is to help machines understand that information as clearly as humans do."
      ],
      "metadata": {
        "id": "dqluDsp3NdPt"
      }
    }
  ]
}